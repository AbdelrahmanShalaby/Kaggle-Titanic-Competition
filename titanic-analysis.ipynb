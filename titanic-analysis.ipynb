{
 "cells": [
  {
   "cell_type": "code",
   "execution_count": 1,
   "id": "7c97896b",
   "metadata": {
    "_cell_guid": "b1076dfc-b9ad-4769-8c92-a6c4dae69d19",
    "_uuid": "8f2839f25d086af736a60e9eeb907d3b93b6e0e5",
    "execution": {
     "iopub.execute_input": "2022-04-09T18:57:15.941279Z",
     "iopub.status.busy": "2022-04-09T18:57:15.940545Z",
     "iopub.status.idle": "2022-04-09T18:57:16.974514Z",
     "shell.execute_reply": "2022-04-09T18:57:16.975155Z",
     "shell.execute_reply.started": "2022-04-09T15:37:24.823067Z"
    },
    "papermill": {
     "duration": 1.079094,
     "end_time": "2022-04-09T18:57:16.975524",
     "exception": false,
     "start_time": "2022-04-09T18:57:15.896430",
     "status": "completed"
    },
    "tags": []
   },
   "outputs": [],
   "source": [
    "# data analysis and wrangling\n",
    "import pandas as pd\n",
    "import numpy as np\n",
    "import random as rnd\n",
    "\n",
    "# visualization\n",
    "import seaborn as sns\n",
    "import matplotlib.pyplot as plt\n",
    "%matplotlib inline\n",
    "\n",
    "import warnings\n",
    "warnings.filterwarnings(\"ignore\")\n",
    "pd.set_option(\"display.max_columns\",None)\n",
    "pd.set_option(\"display.max_rows\",None)"
   ]
  },
  {
   "cell_type": "code",
   "execution_count": 2,
   "id": "cec5c80b",
   "metadata": {
    "execution": {
     "iopub.execute_input": "2022-04-09T18:57:17.031254Z",
     "iopub.status.busy": "2022-04-09T18:57:17.030206Z",
     "iopub.status.idle": "2022-04-09T18:57:17.060866Z",
     "shell.execute_reply": "2022-04-09T18:57:17.061401Z",
     "shell.execute_reply.started": "2022-04-09T15:37:24.9199Z"
    },
    "papermill": {
     "duration": 0.060519,
     "end_time": "2022-04-09T18:57:17.061607",
     "exception": false,
     "start_time": "2022-04-09T18:57:17.001088",
     "status": "completed"
    },
    "tags": []
   },
   "outputs": [],
   "source": [
    "## Importing the datasets\n",
    "train_df = pd.read_csv(\"../input/titanic/train.csv\")\n",
    "test_df = pd.read_csv(\"../input/titanic/test.csv\")\n",
    "\n",
    "# Make a copy from training data\n",
    "df = train_df.copy()"
   ]
  },
  {
   "cell_type": "code",
   "execution_count": 3,
   "id": "68b4f192",
   "metadata": {
    "execution": {
     "iopub.execute_input": "2022-04-09T18:57:17.121323Z",
     "iopub.status.busy": "2022-04-09T18:57:17.120534Z",
     "iopub.status.idle": "2022-04-09T18:57:17.145930Z",
     "shell.execute_reply": "2022-04-09T18:57:17.146641Z",
     "shell.execute_reply.started": "2022-04-09T15:37:25.022289Z"
    },
    "papermill": {
     "duration": 0.060028,
     "end_time": "2022-04-09T18:57:17.146943",
     "exception": false,
     "start_time": "2022-04-09T18:57:17.086915",
     "status": "completed"
    },
    "tags": []
   },
   "outputs": [
    {
     "name": "stdout",
     "output_type": "stream",
     "text": [
      "Index(['PassengerId', 'Survived', 'Pclass', 'Name', 'Sex', 'Age', 'SibSp',\n",
      "       'Parch', 'Ticket', 'Fare', 'Cabin', 'Embarked'],\n",
      "      dtype='object')\n",
      "<class 'pandas.core.frame.DataFrame'>\n",
      "RangeIndex: 891 entries, 0 to 890\n",
      "Data columns (total 12 columns):\n",
      " #   Column       Non-Null Count  Dtype  \n",
      "---  ------       --------------  -----  \n",
      " 0   PassengerId  891 non-null    int64  \n",
      " 1   Survived     891 non-null    int64  \n",
      " 2   Pclass       891 non-null    int64  \n",
      " 3   Name         891 non-null    object \n",
      " 4   Sex          891 non-null    object \n",
      " 5   Age          714 non-null    float64\n",
      " 6   SibSp        891 non-null    int64  \n",
      " 7   Parch        891 non-null    int64  \n",
      " 8   Ticket       891 non-null    object \n",
      " 9   Fare         891 non-null    float64\n",
      " 10  Cabin        204 non-null    object \n",
      " 11  Embarked     889 non-null    object \n",
      "dtypes: float64(2), int64(5), object(5)\n",
      "memory usage: 83.7+ KB\n"
     ]
    }
   ],
   "source": [
    "print(df.columns)\n",
    "df.info()"
   ]
  },
  {
   "cell_type": "code",
   "execution_count": 4,
   "id": "a0a731e8",
   "metadata": {
    "execution": {
     "iopub.execute_input": "2022-04-09T18:57:17.206633Z",
     "iopub.status.busy": "2022-04-09T18:57:17.205985Z",
     "iopub.status.idle": "2022-04-09T18:57:17.208812Z",
     "shell.execute_reply": "2022-04-09T18:57:17.209353Z",
     "shell.execute_reply.started": "2022-04-09T15:37:25.125863Z"
    },
    "papermill": {
     "duration": 0.035382,
     "end_time": "2022-04-09T18:57:17.209525",
     "exception": false,
     "start_time": "2022-04-09T18:57:17.174143",
     "status": "completed"
    },
    "tags": []
   },
   "outputs": [
    {
     "name": "stdout",
     "output_type": "stream",
     "text": [
      "Number of numerical variables:  7\n",
      "----------------------------------------------------------------------------------------------------\n",
      "Numerical Variables Column:  ['PassengerId', 'Survived', 'Pclass', 'Age', 'SibSp', 'Parch', 'Fare']\n"
     ]
    }
   ],
   "source": [
    "# list of numerical variables\n",
    "numerical_features = [feature for feature in df.columns if df[feature].dtypes != 'O'] # check if df[feature] is not 'O' (Object)\n",
    "print('Number of numerical variables: ', len(numerical_features))\n",
    "print('-'*100)\n",
    "print('Numerical Variables Column: ',numerical_features)"
   ]
  },
  {
   "cell_type": "code",
   "execution_count": 5,
   "id": "473b0bae",
   "metadata": {
    "execution": {
     "iopub.execute_input": "2022-04-09T18:57:17.264492Z",
     "iopub.status.busy": "2022-04-09T18:57:17.263823Z",
     "iopub.status.idle": "2022-04-09T18:57:17.271367Z",
     "shell.execute_reply": "2022-04-09T18:57:17.272006Z",
     "shell.execute_reply.started": "2022-04-09T15:37:25.217015Z"
    },
    "papermill": {
     "duration": 0.036914,
     "end_time": "2022-04-09T18:57:17.272203",
     "exception": false,
     "start_time": "2022-04-09T18:57:17.235289",
     "status": "completed"
    },
    "tags": []
   },
   "outputs": [
    {
     "name": "stdout",
     "output_type": "stream",
     "text": [
      "Number of categorical variables:  5\n",
      "--------------------------------------------------------------------------------\n",
      "Categorical variables column name: ['Name', 'Sex', 'Ticket', 'Cabin', 'Embarked']\n"
     ]
    }
   ],
   "source": [
    "# list of categorical variables\n",
    "cat_features = [feature for feature in df.columns if df[feature].dtypes == 'O'] # check if df[feature] is 'O' (Object)\n",
    "print('Number of categorical variables: ', len(cat_features))\n",
    "print('-'*80)\n",
    "print('Categorical variables column name:',cat_features)"
   ]
  },
  {
   "cell_type": "markdown",
   "id": "fed702cf",
   "metadata": {
    "papermill": {
     "duration": 0.025546,
     "end_time": "2022-04-09T18:57:17.323466",
     "exception": false,
     "start_time": "2022-04-09T18:57:17.297920",
     "status": "completed"
    },
    "tags": []
   },
   "source": [
    "**Categorical**: \n",
    "    Nominal: Survived, Sex, Embarked.\n",
    "    Ordinal: Pclass.\n",
    "\n",
    "**Quantitive**:\n",
    "    Continous: Age, Fare.\n",
    "    Discrete: SibSp, Parch.\n",
    "    "
   ]
  },
  {
   "cell_type": "markdown",
   "id": "e71b3f3e",
   "metadata": {
    "papermill": {
     "duration": 0.025228,
     "end_time": "2022-04-09T18:57:17.374107",
     "exception": false,
     "start_time": "2022-04-09T18:57:17.348879",
     "status": "completed"
    },
    "tags": []
   },
   "source": [
    "**features are mixed**\n",
    "\n",
    "Ticket is a mix of numeric and alphanumeric data types\n",
    "Cabin is alphanumeric"
   ]
  },
  {
   "cell_type": "markdown",
   "id": "dbfaab62",
   "metadata": {
    "papermill": {
     "duration": 0.024782,
     "end_time": "2022-04-09T18:57:17.424096",
     "exception": false,
     "start_time": "2022-04-09T18:57:17.399314",
     "status": "completed"
    },
    "tags": []
   },
   "source": [
    "**features may contain errors or typos**\n",
    "\n",
    "Name feature may contain errors or typos as there are several ways used to describe a name including titles, round brackets, and quotes used for alternative or short names."
   ]
  },
  {
   "cell_type": "code",
   "execution_count": 6,
   "id": "5c85e8cf",
   "metadata": {
    "execution": {
     "iopub.execute_input": "2022-04-09T18:57:17.477701Z",
     "iopub.status.busy": "2022-04-09T18:57:17.477065Z",
     "iopub.status.idle": "2022-04-09T18:57:17.504047Z",
     "shell.execute_reply": "2022-04-09T18:57:17.504790Z",
     "shell.execute_reply.started": "2022-04-09T15:37:25.338645Z"
    },
    "papermill": {
     "duration": 0.055718,
     "end_time": "2022-04-09T18:57:17.504981",
     "exception": false,
     "start_time": "2022-04-09T18:57:17.449263",
     "status": "completed"
    },
    "tags": []
   },
   "outputs": [
    {
     "name": "stdout",
     "output_type": "stream",
     "text": [
      "Percentage of missing values in each feature:\n",
      "PassengerId     0.000000\n",
      "Survived        0.000000\n",
      "Pclass          0.000000\n",
      "Name            0.000000\n",
      "Sex             0.000000\n",
      "Age            19.865320\n",
      "SibSp           0.000000\n",
      "Parch           0.000000\n",
      "Ticket          0.000000\n",
      "Fare            0.000000\n",
      "Cabin          77.104377\n",
      "Embarked        0.224467\n",
      "dtype: float64\n"
     ]
    }
   ],
   "source": [
    "# percentage of missing values\n",
    "print(\"Percentage of missing values in each feature:\\n{}\".format((df.isnull().sum()/len(df)) * 100))"
   ]
  },
  {
   "cell_type": "markdown",
   "id": "5ef24325",
   "metadata": {
    "papermill": {
     "duration": 0.02648,
     "end_time": "2022-04-09T18:57:17.557728",
     "exception": false,
     "start_time": "2022-04-09T18:57:17.531248",
     "status": "completed"
    },
    "tags": []
   },
   "source": [
    "need to delete 'Cabine' feature because missing values percentage more than 40% and will fill missing values in other features."
   ]
  },
  {
   "cell_type": "code",
   "execution_count": 7,
   "id": "d2678b0b",
   "metadata": {
    "execution": {
     "iopub.execute_input": "2022-04-09T18:57:17.613788Z",
     "iopub.status.busy": "2022-04-09T18:57:17.613111Z",
     "iopub.status.idle": "2022-04-09T18:57:17.930705Z",
     "shell.execute_reply": "2022-04-09T18:57:17.930144Z",
     "shell.execute_reply.started": "2022-04-09T15:37:25.426601Z"
    },
    "papermill": {
     "duration": 0.347083,
     "end_time": "2022-04-09T18:57:17.930858",
     "exception": false,
     "start_time": "2022-04-09T18:57:17.583775",
     "status": "completed"
    },
    "tags": []
   },
   "outputs": [
    {
     "data": {
      "image/png": "[encoded data removed]",
      "text/plain": [
       "<Figure size 2250x750 with 1 Axes>"
      ]
     },
     "metadata": {
      "needs_background": "light"
     },
     "output_type": "display_data"
    }
   ],
   "source": [
    "# Detect missing values\n",
    "missing = df.isnull()\n",
    "\n",
    "# Visualisation\n",
    "plt.figure(figsize=(15,5), dpi=150)\n",
    "sns.heatmap(missing,yticklabels=False, cbar=False, cmap=None)\n",
    "plt.title('MISSING VALUES', size=17, pad=13)\n",
    "plt.show()"
   ]
  },
  {
   "cell_type": "code",
   "execution_count": 8,
   "id": "59d27e59",
   "metadata": {
    "execution": {
     "iopub.execute_input": "2022-04-09T18:57:17.994173Z",
     "iopub.status.busy": "2022-04-09T18:57:17.993494Z",
     "iopub.status.idle": "2022-04-09T18:57:17.995846Z",
     "shell.execute_reply": "2022-04-09T18:57:17.996324Z",
     "shell.execute_reply.started": "2022-04-09T15:37:25.649989Z"
    },
    "papermill": {
     "duration": 0.038597,
     "end_time": "2022-04-09T18:57:17.996508",
     "exception": false,
     "start_time": "2022-04-09T18:57:17.957911",
     "status": "completed"
    },
    "tags": []
   },
   "outputs": [],
   "source": [
    "df.drop(columns=['Cabin','PassengerId', 'Name', 'Ticket'], axis = 1, inplace = True)"
   ]
  },
  {
   "cell_type": "code",
   "execution_count": 9,
   "id": "b487d80c",
   "metadata": {
    "execution": {
     "iopub.execute_input": "2022-04-09T18:57:18.061249Z",
     "iopub.status.busy": "2022-04-09T18:57:18.060558Z",
     "iopub.status.idle": "2022-04-09T18:57:18.076665Z",
     "shell.execute_reply": "2022-04-09T18:57:18.077241Z",
     "shell.execute_reply.started": "2022-04-09T15:37:25.656972Z"
    },
    "papermill": {
     "duration": 0.054101,
     "end_time": "2022-04-09T18:57:18.077453",
     "exception": false,
     "start_time": "2022-04-09T18:57:18.023352",
     "status": "completed"
    },
    "tags": []
   },
   "outputs": [
    {
     "data": {
      "text/html": [
       "<div>\n",
       "<style scoped>\n",
       "    .dataframe tbody tr th:only-of-type {\n",
       "        vertical-align: middle;\n",
       "    }\n",
       "\n",
       "    .dataframe tbody tr th {\n",
       "        vertical-align: top;\n",
       "    }\n",
       "\n",
       "    .dataframe thead th {\n",
       "        text-align: right;\n",
       "    }\n",
       "</style>\n",
       "<table border=\"1\" class=\"dataframe\">\n",
       "  <thead>\n",
       "    <tr style=\"text-align: right;\">\n",
       "      <th></th>\n",
       "      <th>Survived</th>\n",
       "      <th>Pclass</th>\n",
       "      <th>Sex</th>\n",
       "      <th>Age</th>\n",
       "      <th>SibSp</th>\n",
       "      <th>Parch</th>\n",
       "      <th>Fare</th>\n",
       "      <th>Embarked</th>\n",
       "    </tr>\n",
       "  </thead>\n",
       "  <tbody>\n",
       "    <tr>\n",
       "      <th>61</th>\n",
       "      <td>1</td>\n",
       "      <td>1</td>\n",
       "      <td>female</td>\n",
       "      <td>38.0</td>\n",
       "      <td>0</td>\n",
       "      <td>0</td>\n",
       "      <td>80.0</td>\n",
       "      <td>NaN</td>\n",
       "    </tr>\n",
       "    <tr>\n",
       "      <th>829</th>\n",
       "      <td>1</td>\n",
       "      <td>1</td>\n",
       "      <td>female</td>\n",
       "      <td>62.0</td>\n",
       "      <td>0</td>\n",
       "      <td>0</td>\n",
       "      <td>80.0</td>\n",
       "      <td>NaN</td>\n",
       "    </tr>\n",
       "  </tbody>\n",
       "</table>\n",
       "</div>"
      ],
      "text/plain": [
       "     Survived  Pclass     Sex   Age  SibSp  Parch  Fare Embarked\n",
       "61          1       1  female  38.0      0      0  80.0      NaN\n",
       "829         1       1  female  62.0      0      0  80.0      NaN"
      ]
     },
     "execution_count": 9,
     "metadata": {},
     "output_type": "execute_result"
    }
   ],
   "source": [
    "df[pd.isnull(df.Embarked)]"
   ]
  },
  {
   "cell_type": "code",
   "execution_count": 10,
   "id": "ba7cead0",
   "metadata": {
    "execution": {
     "iopub.execute_input": "2022-04-09T18:57:18.136720Z",
     "iopub.status.busy": "2022-04-09T18:57:18.136050Z",
     "iopub.status.idle": "2022-04-09T18:57:18.143776Z",
     "shell.execute_reply": "2022-04-09T18:57:18.143173Z",
     "shell.execute_reply.started": "2022-04-09T15:37:25.742691Z"
    },
    "papermill": {
     "duration": 0.038757,
     "end_time": "2022-04-09T18:57:18.143975",
     "exception": false,
     "start_time": "2022-04-09T18:57:18.105218",
     "status": "completed"
    },
    "tags": []
   },
   "outputs": [],
   "source": [
    "# replace missing values with the char has the most frequency\n",
    "df.Embarked.fillna((df['Embarked'].value_counts()).idxmax(),inplace = True)"
   ]
  },
  {
   "cell_type": "code",
   "execution_count": 11,
   "id": "4e39f107",
   "metadata": {
    "execution": {
     "iopub.execute_input": "2022-04-09T18:57:18.207224Z",
     "iopub.status.busy": "2022-04-09T18:57:18.206523Z",
     "iopub.status.idle": "2022-04-09T18:57:18.481605Z",
     "shell.execute_reply": "2022-04-09T18:57:18.482152Z",
     "shell.execute_reply.started": "2022-04-09T15:37:25.837668Z"
    },
    "papermill": {
     "duration": 0.310144,
     "end_time": "2022-04-09T18:57:18.482375",
     "exception": false,
     "start_time": "2022-04-09T18:57:18.172231",
     "status": "completed"
    },
    "tags": []
   },
   "outputs": [
    {
     "data": {
      "image/png": "[encoded data removed]",
      "text/plain": [
       "<Figure size 1152x504 with 1 Axes>"
      ]
     },
     "metadata": {
      "needs_background": "light"
     },
     "output_type": "display_data"
    }
   ],
   "source": [
    "df['Age'].hist(bins=16 ,figsize=(16,7))\n",
    "plt.title('Age Distribution of all passengers', size=17, pad=13)\n",
    "plt.xlabel('Age')\n",
    "plt.ylabel('Count')\n",
    "plt.grid(True)\n"
   ]
  },
  {
   "cell_type": "code",
   "execution_count": 12,
   "id": "c6026b2e",
   "metadata": {
    "execution": {
     "iopub.execute_input": "2022-04-09T18:57:18.543449Z",
     "iopub.status.busy": "2022-04-09T18:57:18.542801Z",
     "iopub.status.idle": "2022-04-09T18:57:18.576929Z",
     "shell.execute_reply": "2022-04-09T18:57:18.576236Z",
     "shell.execute_reply.started": "2022-04-09T15:37:26.068606Z"
    },
    "papermill": {
     "duration": 0.065465,
     "end_time": "2022-04-09T18:57:18.577080",
     "exception": false,
     "start_time": "2022-04-09T18:57:18.511615",
     "status": "completed"
    },
    "tags": []
   },
   "outputs": [
    {
     "data": {
      "text/html": [
       "<div>\n",
       "<style scoped>\n",
       "    .dataframe tbody tr th:only-of-type {\n",
       "        vertical-align: middle;\n",
       "    }\n",
       "\n",
       "    .dataframe tbody tr th {\n",
       "        vertical-align: top;\n",
       "    }\n",
       "\n",
       "    .dataframe thead th {\n",
       "        text-align: right;\n",
       "    }\n",
       "</style>\n",
       "<table border=\"1\" class=\"dataframe\">\n",
       "  <thead>\n",
       "    <tr style=\"text-align: right;\">\n",
       "      <th></th>\n",
       "      <th>Survived</th>\n",
       "      <th>Pclass</th>\n",
       "      <th>Age</th>\n",
       "      <th>SibSp</th>\n",
       "      <th>Parch</th>\n",
       "      <th>Fare</th>\n",
       "    </tr>\n",
       "  </thead>\n",
       "  <tbody>\n",
       "    <tr>\n",
       "      <th>count</th>\n",
       "      <td>891.000000</td>\n",
       "      <td>891.000000</td>\n",
       "      <td>714.000000</td>\n",
       "      <td>891.000000</td>\n",
       "      <td>891.000000</td>\n",
       "      <td>891.000000</td>\n",
       "    </tr>\n",
       "    <tr>\n",
       "      <th>mean</th>\n",
       "      <td>0.383838</td>\n",
       "      <td>2.308642</td>\n",
       "      <td>29.699118</td>\n",
       "      <td>0.523008</td>\n",
       "      <td>0.381594</td>\n",
       "      <td>32.204208</td>\n",
       "    </tr>\n",
       "    <tr>\n",
       "      <th>std</th>\n",
       "      <td>0.486592</td>\n",
       "      <td>0.836071</td>\n",
       "      <td>14.526497</td>\n",
       "      <td>1.102743</td>\n",
       "      <td>0.806057</td>\n",
       "      <td>49.693429</td>\n",
       "    </tr>\n",
       "    <tr>\n",
       "      <th>min</th>\n",
       "      <td>0.000000</td>\n",
       "      <td>1.000000</td>\n",
       "      <td>0.420000</td>\n",
       "      <td>0.000000</td>\n",
       "      <td>0.000000</td>\n",
       "      <td>0.000000</td>\n",
       "    </tr>\n",
       "    <tr>\n",
       "      <th>25%</th>\n",
       "      <td>0.000000</td>\n",
       "      <td>2.000000</td>\n",
       "      <td>20.125000</td>\n",
       "      <td>0.000000</td>\n",
       "      <td>0.000000</td>\n",
       "      <td>7.910400</td>\n",
       "    </tr>\n",
       "    <tr>\n",
       "      <th>50%</th>\n",
       "      <td>0.000000</td>\n",
       "      <td>3.000000</td>\n",
       "      <td>28.000000</td>\n",
       "      <td>0.000000</td>\n",
       "      <td>0.000000</td>\n",
       "      <td>14.454200</td>\n",
       "    </tr>\n",
       "    <tr>\n",
       "      <th>75%</th>\n",
       "      <td>1.000000</td>\n",
       "      <td>3.000000</td>\n",
       "      <td>38.000000</td>\n",
       "      <td>1.000000</td>\n",
       "      <td>0.000000</td>\n",
       "      <td>31.000000</td>\n",
       "    </tr>\n",
       "    <tr>\n",
       "      <th>max</th>\n",
       "      <td>1.000000</td>\n",
       "      <td>3.000000</td>\n",
       "      <td>80.000000</td>\n",
       "      <td>8.000000</td>\n",
       "      <td>6.000000</td>\n",
       "      <td>512.329200</td>\n",
       "    </tr>\n",
       "  </tbody>\n",
       "</table>\n",
       "</div>"
      ],
      "text/plain": [
       "         Survived      Pclass         Age       SibSp       Parch        Fare\n",
       "count  891.000000  891.000000  714.000000  891.000000  891.000000  891.000000\n",
       "mean     0.383838    2.308642   29.699118    0.523008    0.381594   32.204208\n",
       "std      0.486592    0.836071   14.526497    1.102743    0.806057   49.693429\n",
       "min      0.000000    1.000000    0.420000    0.000000    0.000000    0.000000\n",
       "25%      0.000000    2.000000   20.125000    0.000000    0.000000    7.910400\n",
       "50%      0.000000    3.000000   28.000000    0.000000    0.000000   14.454200\n",
       "75%      1.000000    3.000000   38.000000    1.000000    0.000000   31.000000\n",
       "max      1.000000    3.000000   80.000000    8.000000    6.000000  512.329200"
      ]
     },
     "execution_count": 12,
     "metadata": {},
     "output_type": "execute_result"
    }
   ],
   "source": [
    "df.describe()"
   ]
  },
  {
   "cell_type": "code",
   "execution_count": 13,
   "id": "3d4fc28d",
   "metadata": {
    "execution": {
     "iopub.execute_input": "2022-04-09T18:57:18.641789Z",
     "iopub.status.busy": "2022-04-09T18:57:18.641145Z",
     "iopub.status.idle": "2022-04-09T18:57:18.665049Z",
     "shell.execute_reply": "2022-04-09T18:57:18.665666Z",
     "shell.execute_reply.started": "2022-04-09T15:37:26.099851Z"
    },
    "papermill": {
     "duration": 0.059056,
     "end_time": "2022-04-09T18:57:18.665868",
     "exception": false,
     "start_time": "2022-04-09T18:57:18.606812",
     "status": "completed"
    },
    "tags": []
   },
   "outputs": [
    {
     "data": {
      "text/html": [
       "<div>\n",
       "<style scoped>\n",
       "    .dataframe tbody tr th:only-of-type {\n",
       "        vertical-align: middle;\n",
       "    }\n",
       "\n",
       "    .dataframe tbody tr th {\n",
       "        vertical-align: top;\n",
       "    }\n",
       "\n",
       "    .dataframe thead th {\n",
       "        text-align: right;\n",
       "    }\n",
       "</style>\n",
       "<table border=\"1\" class=\"dataframe\">\n",
       "  <thead>\n",
       "    <tr style=\"text-align: right;\">\n",
       "      <th></th>\n",
       "      <th>len</th>\n",
       "      <th>min</th>\n",
       "      <th>max</th>\n",
       "      <th>mean</th>\n",
       "      <th>median</th>\n",
       "    </tr>\n",
       "    <tr>\n",
       "      <th>Sex</th>\n",
       "      <th></th>\n",
       "      <th></th>\n",
       "      <th></th>\n",
       "      <th></th>\n",
       "      <th></th>\n",
       "    </tr>\n",
       "  </thead>\n",
       "  <tbody>\n",
       "    <tr>\n",
       "      <th>female</th>\n",
       "      <td>314.0</td>\n",
       "      <td>0.75</td>\n",
       "      <td>63.0</td>\n",
       "      <td>27.915709</td>\n",
       "      <td>27.0</td>\n",
       "    </tr>\n",
       "    <tr>\n",
       "      <th>male</th>\n",
       "      <td>577.0</td>\n",
       "      <td>0.42</td>\n",
       "      <td>80.0</td>\n",
       "      <td>30.726645</td>\n",
       "      <td>29.0</td>\n",
       "    </tr>\n",
       "  </tbody>\n",
       "</table>\n",
       "</div>"
      ],
      "text/plain": [
       "          len   min   max       mean  median\n",
       "Sex                                         \n",
       "female  314.0  0.75  63.0  27.915709    27.0\n",
       "male    577.0  0.42  80.0  30.726645    29.0"
      ]
     },
     "execution_count": 13,
     "metadata": {},
     "output_type": "execute_result"
    }
   ],
   "source": [
    "# Grouping Column 'Sex' to see the average age or women and men\n",
    "grouped_sex_age = df.groupby(['Sex']).Age.agg([len, min, max, 'mean', 'median'])\n",
    "grouped_sex_age"
   ]
  },
  {
   "cell_type": "code",
   "execution_count": 14,
   "id": "195a646b",
   "metadata": {
    "execution": {
     "iopub.execute_input": "2022-04-09T18:57:18.728127Z",
     "iopub.status.busy": "2022-04-09T18:57:18.727432Z",
     "iopub.status.idle": "2022-04-09T18:57:18.749148Z",
     "shell.execute_reply": "2022-04-09T18:57:18.749763Z",
     "shell.execute_reply.started": "2022-04-09T15:37:26.226109Z"
    },
    "papermill": {
     "duration": 0.054665,
     "end_time": "2022-04-09T18:57:18.749950",
     "exception": false,
     "start_time": "2022-04-09T18:57:18.695285",
     "status": "completed"
    },
    "tags": []
   },
   "outputs": [
    {
     "data": {
      "text/html": [
       "<div>\n",
       "<style scoped>\n",
       "    .dataframe tbody tr th:only-of-type {\n",
       "        vertical-align: middle;\n",
       "    }\n",
       "\n",
       "    .dataframe tbody tr th {\n",
       "        vertical-align: top;\n",
       "    }\n",
       "\n",
       "    .dataframe thead th {\n",
       "        text-align: right;\n",
       "    }\n",
       "</style>\n",
       "<table border=\"1\" class=\"dataframe\">\n",
       "  <thead>\n",
       "    <tr style=\"text-align: right;\">\n",
       "      <th></th>\n",
       "      <th>len</th>\n",
       "      <th>min</th>\n",
       "      <th>max</th>\n",
       "      <th>mean</th>\n",
       "      <th>median</th>\n",
       "    </tr>\n",
       "    <tr>\n",
       "      <th>Pclass</th>\n",
       "      <th></th>\n",
       "      <th></th>\n",
       "      <th></th>\n",
       "      <th></th>\n",
       "      <th></th>\n",
       "    </tr>\n",
       "  </thead>\n",
       "  <tbody>\n",
       "    <tr>\n",
       "      <th>1</th>\n",
       "      <td>216.0</td>\n",
       "      <td>0.92</td>\n",
       "      <td>80.0</td>\n",
       "      <td>38.233441</td>\n",
       "      <td>37.0</td>\n",
       "    </tr>\n",
       "    <tr>\n",
       "      <th>2</th>\n",
       "      <td>184.0</td>\n",
       "      <td>0.67</td>\n",
       "      <td>70.0</td>\n",
       "      <td>29.877630</td>\n",
       "      <td>29.0</td>\n",
       "    </tr>\n",
       "    <tr>\n",
       "      <th>3</th>\n",
       "      <td>491.0</td>\n",
       "      <td>0.42</td>\n",
       "      <td>74.0</td>\n",
       "      <td>25.140620</td>\n",
       "      <td>24.0</td>\n",
       "    </tr>\n",
       "  </tbody>\n",
       "</table>\n",
       "</div>"
      ],
      "text/plain": [
       "          len   min   max       mean  median\n",
       "Pclass                                      \n",
       "1       216.0  0.92  80.0  38.233441    37.0\n",
       "2       184.0  0.67  70.0  29.877630    29.0\n",
       "3       491.0  0.42  74.0  25.140620    24.0"
      ]
     },
     "execution_count": 14,
     "metadata": {},
     "output_type": "execute_result"
    }
   ],
   "source": [
    "# Grouping the 'Pclass' to see if the average age changes from class to class\n",
    "grouped_class_age = df.groupby(['Pclass']).Age.agg([len, min, max, 'mean', 'median'])\n",
    "grouped_class_age"
   ]
  },
  {
   "cell_type": "code",
   "execution_count": 15,
   "id": "efd78b99",
   "metadata": {
    "execution": {
     "iopub.execute_input": "2022-04-09T18:57:18.814334Z",
     "iopub.status.busy": "2022-04-09T18:57:18.813657Z",
     "iopub.status.idle": "2022-04-09T18:57:18.843092Z",
     "shell.execute_reply": "2022-04-09T18:57:18.842404Z",
     "shell.execute_reply.started": "2022-04-09T15:37:26.353676Z"
    },
    "papermill": {
     "duration": 0.063159,
     "end_time": "2022-04-09T18:57:18.843259",
     "exception": false,
     "start_time": "2022-04-09T18:57:18.780100",
     "status": "completed"
    },
    "tags": []
   },
   "outputs": [
    {
     "data": {
      "text/html": [
       "<div>\n",
       "<style scoped>\n",
       "    .dataframe tbody tr th:only-of-type {\n",
       "        vertical-align: middle;\n",
       "    }\n",
       "\n",
       "    .dataframe tbody tr th {\n",
       "        vertical-align: top;\n",
       "    }\n",
       "\n",
       "    .dataframe thead th {\n",
       "        text-align: right;\n",
       "    }\n",
       "</style>\n",
       "<table border=\"1\" class=\"dataframe\">\n",
       "  <thead>\n",
       "    <tr style=\"text-align: right;\">\n",
       "      <th></th>\n",
       "      <th></th>\n",
       "      <th>len</th>\n",
       "      <th>min</th>\n",
       "      <th>max</th>\n",
       "      <th>mean</th>\n",
       "      <th>median</th>\n",
       "    </tr>\n",
       "    <tr>\n",
       "      <th>Sex</th>\n",
       "      <th>Pclass</th>\n",
       "      <th></th>\n",
       "      <th></th>\n",
       "      <th></th>\n",
       "      <th></th>\n",
       "      <th></th>\n",
       "    </tr>\n",
       "  </thead>\n",
       "  <tbody>\n",
       "    <tr>\n",
       "      <th rowspan=\"3\" valign=\"top\">female</th>\n",
       "      <th>1</th>\n",
       "      <td>94.0</td>\n",
       "      <td>2.00</td>\n",
       "      <td>63.0</td>\n",
       "      <td>34.611765</td>\n",
       "      <td>35.0</td>\n",
       "    </tr>\n",
       "    <tr>\n",
       "      <th>2</th>\n",
       "      <td>76.0</td>\n",
       "      <td>2.00</td>\n",
       "      <td>57.0</td>\n",
       "      <td>28.722973</td>\n",
       "      <td>28.0</td>\n",
       "    </tr>\n",
       "    <tr>\n",
       "      <th>3</th>\n",
       "      <td>144.0</td>\n",
       "      <td>0.75</td>\n",
       "      <td>63.0</td>\n",
       "      <td>21.750000</td>\n",
       "      <td>21.5</td>\n",
       "    </tr>\n",
       "    <tr>\n",
       "      <th rowspan=\"3\" valign=\"top\">male</th>\n",
       "      <th>1</th>\n",
       "      <td>122.0</td>\n",
       "      <td>0.92</td>\n",
       "      <td>80.0</td>\n",
       "      <td>41.281386</td>\n",
       "      <td>40.0</td>\n",
       "    </tr>\n",
       "    <tr>\n",
       "      <th>2</th>\n",
       "      <td>108.0</td>\n",
       "      <td>0.67</td>\n",
       "      <td>70.0</td>\n",
       "      <td>30.740707</td>\n",
       "      <td>30.0</td>\n",
       "    </tr>\n",
       "    <tr>\n",
       "      <th>3</th>\n",
       "      <td>347.0</td>\n",
       "      <td>0.42</td>\n",
       "      <td>74.0</td>\n",
       "      <td>26.507589</td>\n",
       "      <td>25.0</td>\n",
       "    </tr>\n",
       "  </tbody>\n",
       "</table>\n",
       "</div>"
      ],
      "text/plain": [
       "                 len   min   max       mean  median\n",
       "Sex    Pclass                                      \n",
       "female 1        94.0  2.00  63.0  34.611765    35.0\n",
       "       2        76.0  2.00  57.0  28.722973    28.0\n",
       "       3       144.0  0.75  63.0  21.750000    21.5\n",
       "male   1       122.0  0.92  80.0  41.281386    40.0\n",
       "       2       108.0  0.67  70.0  30.740707    30.0\n",
       "       3       347.0  0.42  74.0  26.507589    25.0"
      ]
     },
     "execution_count": 15,
     "metadata": {},
     "output_type": "execute_result"
    }
   ],
   "source": [
    "# Checking the (aveage) age and amount of people for each class and sex\n",
    "grouped_sex_pclass_age = df.groupby(['Sex', 'Pclass']).Age.agg([len, min, max, 'mean', 'median'])\n",
    "grouped_sex_pclass_age"
   ]
  },
  {
   "cell_type": "code",
   "execution_count": 16,
   "id": "4710ada5",
   "metadata": {
    "execution": {
     "iopub.execute_input": "2022-04-09T18:57:18.912151Z",
     "iopub.status.busy": "2022-04-09T18:57:18.911166Z",
     "iopub.status.idle": "2022-04-09T18:57:18.987383Z",
     "shell.execute_reply": "2022-04-09T18:57:18.986791Z",
     "shell.execute_reply.started": "2022-04-09T15:37:26.500391Z"
    },
    "papermill": {
     "duration": 0.113601,
     "end_time": "2022-04-09T18:57:18.987544",
     "exception": false,
     "start_time": "2022-04-09T18:57:18.873943",
     "status": "completed"
    },
    "tags": []
   },
   "outputs": [
    {
     "data": {
      "text/html": [
       "<div>\n",
       "<style scoped>\n",
       "    .dataframe tbody tr th:only-of-type {\n",
       "        vertical-align: middle;\n",
       "    }\n",
       "\n",
       "    .dataframe tbody tr th {\n",
       "        vertical-align: top;\n",
       "    }\n",
       "\n",
       "    .dataframe thead th {\n",
       "        text-align: right;\n",
       "    }\n",
       "</style>\n",
       "<table border=\"1\" class=\"dataframe\">\n",
       "  <thead>\n",
       "    <tr style=\"text-align: right;\">\n",
       "      <th></th>\n",
       "      <th>Survived</th>\n",
       "      <th>Pclass</th>\n",
       "      <th>Sex</th>\n",
       "      <th>Age</th>\n",
       "      <th>SibSp</th>\n",
       "      <th>Parch</th>\n",
       "      <th>Fare</th>\n",
       "      <th>Embarked</th>\n",
       "    </tr>\n",
       "  </thead>\n",
       "  <tbody>\n",
       "    <tr>\n",
       "      <th>0</th>\n",
       "      <td>0</td>\n",
       "      <td>3</td>\n",
       "      <td>male</td>\n",
       "      <td>22.0</td>\n",
       "      <td>1</td>\n",
       "      <td>0</td>\n",
       "      <td>7.2500</td>\n",
       "      <td>S</td>\n",
       "    </tr>\n",
       "    <tr>\n",
       "      <th>1</th>\n",
       "      <td>1</td>\n",
       "      <td>1</td>\n",
       "      <td>female</td>\n",
       "      <td>38.0</td>\n",
       "      <td>1</td>\n",
       "      <td>0</td>\n",
       "      <td>71.2833</td>\n",
       "      <td>C</td>\n",
       "    </tr>\n",
       "    <tr>\n",
       "      <th>2</th>\n",
       "      <td>1</td>\n",
       "      <td>3</td>\n",
       "      <td>female</td>\n",
       "      <td>26.0</td>\n",
       "      <td>0</td>\n",
       "      <td>0</td>\n",
       "      <td>7.9250</td>\n",
       "      <td>S</td>\n",
       "    </tr>\n",
       "    <tr>\n",
       "      <th>3</th>\n",
       "      <td>1</td>\n",
       "      <td>1</td>\n",
       "      <td>female</td>\n",
       "      <td>35.0</td>\n",
       "      <td>1</td>\n",
       "      <td>0</td>\n",
       "      <td>53.1000</td>\n",
       "      <td>S</td>\n",
       "    </tr>\n",
       "    <tr>\n",
       "      <th>4</th>\n",
       "      <td>0</td>\n",
       "      <td>3</td>\n",
       "      <td>male</td>\n",
       "      <td>35.0</td>\n",
       "      <td>0</td>\n",
       "      <td>0</td>\n",
       "      <td>8.0500</td>\n",
       "      <td>S</td>\n",
       "    </tr>\n",
       "  </tbody>\n",
       "</table>\n",
       "</div>"
      ],
      "text/plain": [
       "   Survived  Pclass     Sex   Age  SibSp  Parch     Fare Embarked\n",
       "0         0       3    male  22.0      1      0   7.2500        S\n",
       "1         1       1  female  38.0      1      0  71.2833        C\n",
       "2         1       3  female  26.0      0      0   7.9250        S\n",
       "3         1       1  female  35.0      1      0  53.1000        S\n",
       "4         0       3    male  35.0      0      0   8.0500        S"
      ]
     },
     "execution_count": 16,
     "metadata": {},
     "output_type": "execute_result"
    }
   ],
   "source": [
    "df['Age'] = df.apply(lambda x: grouped_sex_pclass_age.loc[x['Sex'], x['Pclass']]['median'] if (np.isnan(x['Age'])) else x['Age'],axis = 1)\n",
    "df.head()"
   ]
  },
  {
   "cell_type": "code",
   "execution_count": 17,
   "id": "2305de4a",
   "metadata": {
    "execution": {
     "iopub.execute_input": "2022-04-09T18:57:19.054999Z",
     "iopub.status.busy": "2022-04-09T18:57:19.054246Z",
     "iopub.status.idle": "2022-04-09T18:57:19.065243Z",
     "shell.execute_reply": "2022-04-09T18:57:19.065903Z",
     "shell.execute_reply.started": "2022-04-09T15:37:26.633294Z"
    },
    "papermill": {
     "duration": 0.046205,
     "end_time": "2022-04-09T18:57:19.066105",
     "exception": false,
     "start_time": "2022-04-09T18:57:19.019900",
     "status": "completed"
    },
    "tags": []
   },
   "outputs": [
    {
     "data": {
      "text/html": [
       "<div>\n",
       "<style scoped>\n",
       "    .dataframe tbody tr th:only-of-type {\n",
       "        vertical-align: middle;\n",
       "    }\n",
       "\n",
       "    .dataframe tbody tr th {\n",
       "        vertical-align: top;\n",
       "    }\n",
       "\n",
       "    .dataframe thead th {\n",
       "        text-align: right;\n",
       "    }\n",
       "</style>\n",
       "<table border=\"1\" class=\"dataframe\">\n",
       "  <thead>\n",
       "    <tr style=\"text-align: right;\">\n",
       "      <th></th>\n",
       "      <th>Survived</th>\n",
       "      <th>Pclass</th>\n",
       "      <th>Sex</th>\n",
       "      <th>Age</th>\n",
       "      <th>SibSp</th>\n",
       "      <th>Parch</th>\n",
       "      <th>Fare</th>\n",
       "      <th>Embarked</th>\n",
       "    </tr>\n",
       "  </thead>\n",
       "  <tbody>\n",
       "  </tbody>\n",
       "</table>\n",
       "</div>"
      ],
      "text/plain": [
       "Empty DataFrame\n",
       "Columns: [Survived, Pclass, Sex, Age, SibSp, Parch, Fare, Embarked]\n",
       "Index: []"
      ]
     },
     "execution_count": 17,
     "metadata": {},
     "output_type": "execute_result"
    }
   ],
   "source": [
    "df[df['Age'].isnull()]"
   ]
  },
  {
   "cell_type": "code",
   "execution_count": 18,
   "id": "9969ff7d",
   "metadata": {
    "execution": {
     "iopub.execute_input": "2022-04-09T18:57:19.132551Z",
     "iopub.status.busy": "2022-04-09T18:57:19.131895Z",
     "iopub.status.idle": "2022-04-09T18:57:19.141736Z",
     "shell.execute_reply": "2022-04-09T18:57:19.141052Z",
     "shell.execute_reply.started": "2022-04-09T15:37:26.714335Z"
    },
    "papermill": {
     "duration": 0.044327,
     "end_time": "2022-04-09T18:57:19.141902",
     "exception": false,
     "start_time": "2022-04-09T18:57:19.097575",
     "status": "completed"
    },
    "tags": []
   },
   "outputs": [
    {
     "data": {
      "text/plain": [
       "Survived    0\n",
       "Pclass      0\n",
       "Sex         0\n",
       "Age         0\n",
       "SibSp       0\n",
       "Parch       0\n",
       "Fare        0\n",
       "Embarked    0\n",
       "dtype: int64"
      ]
     },
     "execution_count": 18,
     "metadata": {},
     "output_type": "execute_result"
    }
   ],
   "source": [
    "df.isnull().sum()"
   ]
  },
  {
   "cell_type": "code",
   "execution_count": 19,
   "id": "9f092270",
   "metadata": {
    "execution": {
     "iopub.execute_input": "2022-04-09T18:57:19.209971Z",
     "iopub.status.busy": "2022-04-09T18:57:19.209265Z",
     "iopub.status.idle": "2022-04-09T18:57:19.455068Z",
     "shell.execute_reply": "2022-04-09T18:57:19.454441Z",
     "shell.execute_reply.started": "2022-04-09T15:37:26.797076Z"
    },
    "papermill": {
     "duration": 0.281412,
     "end_time": "2022-04-09T18:57:19.455233",
     "exception": false,
     "start_time": "2022-04-09T18:57:19.173821",
     "status": "completed"
    },
    "tags": []
   },
   "outputs": [
    {
     "data": {
      "image/png": "[encoded data removed]",
      "text/plain": [
       "<Figure size 1152x504 with 1 Axes>"
      ]
     },
     "metadata": {
      "needs_background": "light"
     },
     "output_type": "display_data"
    }
   ],
   "source": [
    "df['Age'].hist(bins=16 ,figsize=(16,7))\n",
    "plt.title('Age Distribution of all passengers', size=17, pad=13)\n",
    "plt.xlabel('Age')\n",
    "plt.ylabel('Count')\n",
    "plt.grid(True)"
   ]
  },
  {
   "cell_type": "code",
   "execution_count": 20,
   "id": "aa51cd94",
   "metadata": {
    "execution": {
     "iopub.execute_input": "2022-04-09T18:57:19.536323Z",
     "iopub.status.busy": "2022-04-09T18:57:19.535567Z",
     "iopub.status.idle": "2022-04-09T18:57:19.539164Z",
     "shell.execute_reply": "2022-04-09T18:57:19.539762Z",
     "shell.execute_reply.started": "2022-04-09T15:37:27.030923Z"
    },
    "papermill": {
     "duration": 0.051663,
     "end_time": "2022-04-09T18:57:19.539963",
     "exception": false,
     "start_time": "2022-04-09T18:57:19.488300",
     "status": "completed"
    },
    "tags": []
   },
   "outputs": [
    {
     "data": {
      "text/html": [
       "<div>\n",
       "<style scoped>\n",
       "    .dataframe tbody tr th:only-of-type {\n",
       "        vertical-align: middle;\n",
       "    }\n",
       "\n",
       "    .dataframe tbody tr th {\n",
       "        vertical-align: top;\n",
       "    }\n",
       "\n",
       "    .dataframe thead th {\n",
       "        text-align: right;\n",
       "    }\n",
       "</style>\n",
       "<table border=\"1\" class=\"dataframe\">\n",
       "  <thead>\n",
       "    <tr style=\"text-align: right;\">\n",
       "      <th></th>\n",
       "      <th>Survived</th>\n",
       "      <th>Pclass</th>\n",
       "      <th>Sex</th>\n",
       "      <th>Age</th>\n",
       "      <th>SibSp</th>\n",
       "      <th>Parch</th>\n",
       "      <th>Fare</th>\n",
       "      <th>Embarked</th>\n",
       "    </tr>\n",
       "  </thead>\n",
       "  <tbody>\n",
       "    <tr>\n",
       "      <th>0</th>\n",
       "      <td>0</td>\n",
       "      <td>3</td>\n",
       "      <td>male</td>\n",
       "      <td>22.0</td>\n",
       "      <td>1</td>\n",
       "      <td>0</td>\n",
       "      <td>7.2500</td>\n",
       "      <td>S</td>\n",
       "    </tr>\n",
       "    <tr>\n",
       "      <th>1</th>\n",
       "      <td>1</td>\n",
       "      <td>1</td>\n",
       "      <td>female</td>\n",
       "      <td>38.0</td>\n",
       "      <td>1</td>\n",
       "      <td>0</td>\n",
       "      <td>71.2833</td>\n",
       "      <td>C</td>\n",
       "    </tr>\n",
       "    <tr>\n",
       "      <th>2</th>\n",
       "      <td>1</td>\n",
       "      <td>3</td>\n",
       "      <td>female</td>\n",
       "      <td>26.0</td>\n",
       "      <td>0</td>\n",
       "      <td>0</td>\n",
       "      <td>7.9250</td>\n",
       "      <td>S</td>\n",
       "    </tr>\n",
       "    <tr>\n",
       "      <th>3</th>\n",
       "      <td>1</td>\n",
       "      <td>1</td>\n",
       "      <td>female</td>\n",
       "      <td>35.0</td>\n",
       "      <td>1</td>\n",
       "      <td>0</td>\n",
       "      <td>53.1000</td>\n",
       "      <td>S</td>\n",
       "    </tr>\n",
       "    <tr>\n",
       "      <th>4</th>\n",
       "      <td>0</td>\n",
       "      <td>3</td>\n",
       "      <td>male</td>\n",
       "      <td>35.0</td>\n",
       "      <td>0</td>\n",
       "      <td>0</td>\n",
       "      <td>8.0500</td>\n",
       "      <td>S</td>\n",
       "    </tr>\n",
       "  </tbody>\n",
       "</table>\n",
       "</div>"
      ],
      "text/plain": [
       "   Survived  Pclass     Sex   Age  SibSp  Parch     Fare Embarked\n",
       "0         0       3    male  22.0      1      0   7.2500        S\n",
       "1         1       1  female  38.0      1      0  71.2833        C\n",
       "2         1       3  female  26.0      0      0   7.9250        S\n",
       "3         1       1  female  35.0      1      0  53.1000        S\n",
       "4         0       3    male  35.0      0      0   8.0500        S"
      ]
     },
     "execution_count": 20,
     "metadata": {},
     "output_type": "execute_result"
    }
   ],
   "source": [
    "# preview the data\n",
    "df.head()"
   ]
  },
  {
   "cell_type": "code",
   "execution_count": 21,
   "id": "53f4035e",
   "metadata": {
    "execution": {
     "iopub.execute_input": "2022-04-09T18:57:19.611146Z",
     "iopub.status.busy": "2022-04-09T18:57:19.610460Z",
     "iopub.status.idle": "2022-04-09T18:57:19.645913Z",
     "shell.execute_reply": "2022-04-09T18:57:19.646453Z",
     "shell.execute_reply.started": "2022-04-09T15:37:27.053477Z"
    },
    "papermill": {
     "duration": 0.072358,
     "end_time": "2022-04-09T18:57:19.646665",
     "exception": false,
     "start_time": "2022-04-09T18:57:19.574307",
     "status": "completed"
    },
    "tags": []
   },
   "outputs": [
    {
     "data": {
      "text/html": [
       "<div>\n",
       "<style scoped>\n",
       "    .dataframe tbody tr th:only-of-type {\n",
       "        vertical-align: middle;\n",
       "    }\n",
       "\n",
       "    .dataframe tbody tr th {\n",
       "        vertical-align: top;\n",
       "    }\n",
       "\n",
       "    .dataframe thead th {\n",
       "        text-align: right;\n",
       "    }\n",
       "</style>\n",
       "<table border=\"1\" class=\"dataframe\">\n",
       "  <thead>\n",
       "    <tr style=\"text-align: right;\">\n",
       "      <th></th>\n",
       "      <th>Survived</th>\n",
       "      <th>Pclass</th>\n",
       "      <th>Sex</th>\n",
       "      <th>Age</th>\n",
       "      <th>SibSp</th>\n",
       "      <th>Parch</th>\n",
       "      <th>Fare</th>\n",
       "      <th>Embarked</th>\n",
       "    </tr>\n",
       "  </thead>\n",
       "  <tbody>\n",
       "    <tr>\n",
       "      <th>count</th>\n",
       "      <td>891.000000</td>\n",
       "      <td>891.000000</td>\n",
       "      <td>891</td>\n",
       "      <td>891.000000</td>\n",
       "      <td>891.000000</td>\n",
       "      <td>891.000000</td>\n",
       "      <td>891.000000</td>\n",
       "      <td>891</td>\n",
       "    </tr>\n",
       "    <tr>\n",
       "      <th>unique</th>\n",
       "      <td>NaN</td>\n",
       "      <td>NaN</td>\n",
       "      <td>2</td>\n",
       "      <td>NaN</td>\n",
       "      <td>NaN</td>\n",
       "      <td>NaN</td>\n",
       "      <td>NaN</td>\n",
       "      <td>3</td>\n",
       "    </tr>\n",
       "    <tr>\n",
       "      <th>top</th>\n",
       "      <td>NaN</td>\n",
       "      <td>NaN</td>\n",
       "      <td>male</td>\n",
       "      <td>NaN</td>\n",
       "      <td>NaN</td>\n",
       "      <td>NaN</td>\n",
       "      <td>NaN</td>\n",
       "      <td>S</td>\n",
       "    </tr>\n",
       "    <tr>\n",
       "      <th>freq</th>\n",
       "      <td>NaN</td>\n",
       "      <td>NaN</td>\n",
       "      <td>577</td>\n",
       "      <td>NaN</td>\n",
       "      <td>NaN</td>\n",
       "      <td>NaN</td>\n",
       "      <td>NaN</td>\n",
       "      <td>646</td>\n",
       "    </tr>\n",
       "    <tr>\n",
       "      <th>mean</th>\n",
       "      <td>0.383838</td>\n",
       "      <td>2.308642</td>\n",
       "      <td>NaN</td>\n",
       "      <td>29.112424</td>\n",
       "      <td>0.523008</td>\n",
       "      <td>0.381594</td>\n",
       "      <td>32.204208</td>\n",
       "      <td>NaN</td>\n",
       "    </tr>\n",
       "    <tr>\n",
       "      <th>std</th>\n",
       "      <td>0.486592</td>\n",
       "      <td>0.836071</td>\n",
       "      <td>NaN</td>\n",
       "      <td>13.304424</td>\n",
       "      <td>1.102743</td>\n",
       "      <td>0.806057</td>\n",
       "      <td>49.693429</td>\n",
       "      <td>NaN</td>\n",
       "    </tr>\n",
       "    <tr>\n",
       "      <th>min</th>\n",
       "      <td>0.000000</td>\n",
       "      <td>1.000000</td>\n",
       "      <td>NaN</td>\n",
       "      <td>0.420000</td>\n",
       "      <td>0.000000</td>\n",
       "      <td>0.000000</td>\n",
       "      <td>0.000000</td>\n",
       "      <td>NaN</td>\n",
       "    </tr>\n",
       "    <tr>\n",
       "      <th>25%</th>\n",
       "      <td>0.000000</td>\n",
       "      <td>2.000000</td>\n",
       "      <td>NaN</td>\n",
       "      <td>21.500000</td>\n",
       "      <td>0.000000</td>\n",
       "      <td>0.000000</td>\n",
       "      <td>7.910400</td>\n",
       "      <td>NaN</td>\n",
       "    </tr>\n",
       "    <tr>\n",
       "      <th>50%</th>\n",
       "      <td>0.000000</td>\n",
       "      <td>3.000000</td>\n",
       "      <td>NaN</td>\n",
       "      <td>26.000000</td>\n",
       "      <td>0.000000</td>\n",
       "      <td>0.000000</td>\n",
       "      <td>14.454200</td>\n",
       "      <td>NaN</td>\n",
       "    </tr>\n",
       "    <tr>\n",
       "      <th>75%</th>\n",
       "      <td>1.000000</td>\n",
       "      <td>3.000000</td>\n",
       "      <td>NaN</td>\n",
       "      <td>36.000000</td>\n",
       "      <td>1.000000</td>\n",
       "      <td>0.000000</td>\n",
       "      <td>31.000000</td>\n",
       "      <td>NaN</td>\n",
       "    </tr>\n",
       "    <tr>\n",
       "      <th>max</th>\n",
       "      <td>1.000000</td>\n",
       "      <td>3.000000</td>\n",
       "      <td>NaN</td>\n",
       "      <td>80.000000</td>\n",
       "      <td>8.000000</td>\n",
       "      <td>6.000000</td>\n",
       "      <td>512.329200</td>\n",
       "      <td>NaN</td>\n",
       "    </tr>\n",
       "  </tbody>\n",
       "</table>\n",
       "</div>"
      ],
      "text/plain": [
       "          Survived      Pclass   Sex         Age       SibSp       Parch  \\\n",
       "count   891.000000  891.000000   891  891.000000  891.000000  891.000000   \n",
       "unique         NaN         NaN     2         NaN         NaN         NaN   \n",
       "top            NaN         NaN  male         NaN         NaN         NaN   \n",
       "freq           NaN         NaN   577         NaN         NaN         NaN   \n",
       "mean      0.383838    2.308642   NaN   29.112424    0.523008    0.381594   \n",
       "std       0.486592    0.836071   NaN   13.304424    1.102743    0.806057   \n",
       "min       0.000000    1.000000   NaN    0.420000    0.000000    0.000000   \n",
       "25%       0.000000    2.000000   NaN   21.500000    0.000000    0.000000   \n",
       "50%       0.000000    3.000000   NaN   26.000000    0.000000    0.000000   \n",
       "75%       1.000000    3.000000   NaN   36.000000    1.000000    0.000000   \n",
       "max       1.000000    3.000000   NaN   80.000000    8.000000    6.000000   \n",
       "\n",
       "              Fare Embarked  \n",
       "count   891.000000      891  \n",
       "unique         NaN        3  \n",
       "top            NaN        S  \n",
       "freq           NaN      646  \n",
       "mean     32.204208      NaN  \n",
       "std      49.693429      NaN  \n",
       "min       0.000000      NaN  \n",
       "25%       7.910400      NaN  \n",
       "50%      14.454200      NaN  \n",
       "75%      31.000000      NaN  \n",
       "max     512.329200      NaN  "
      ]
     },
     "execution_count": 21,
     "metadata": {},
     "output_type": "execute_result"
    }
   ],
   "source": [
    "df.describe(include='all')"
   ]
  },
  {
   "cell_type": "code",
   "execution_count": 22,
   "id": "07ebcbcd",
   "metadata": {
    "execution": {
     "iopub.execute_input": "2022-04-09T18:57:19.719020Z",
     "iopub.status.busy": "2022-04-09T18:57:19.718174Z",
     "iopub.status.idle": "2022-04-09T18:57:20.962699Z",
     "shell.execute_reply": "2022-04-09T18:57:20.961999Z",
     "shell.execute_reply.started": "2022-04-09T15:37:27.14543Z"
    },
    "papermill": {
     "duration": 1.281772,
     "end_time": "2022-04-09T18:57:20.962854",
     "exception": false,
     "start_time": "2022-04-09T18:57:19.681082",
     "status": "completed"
    },
    "tags": []
   },
   "outputs": [
    {
     "data": {
      "image/png": "[encoded data removed]",
      "text/plain": [
       "<Figure size 1080x720 with 6 Axes>"
      ]
     },
     "metadata": {
      "needs_background": "light"
     },
     "output_type": "display_data"
    }
   ],
   "source": [
    "df.hist(figsize=(15,10));"
   ]
  },
  {
   "cell_type": "code",
   "execution_count": 23,
   "id": "239ea631",
   "metadata": {
    "execution": {
     "iopub.execute_input": "2022-04-09T18:57:21.045456Z",
     "iopub.status.busy": "2022-04-09T18:57:21.044773Z",
     "iopub.status.idle": "2022-04-09T18:57:21.050000Z",
     "shell.execute_reply": "2022-04-09T18:57:21.050526Z",
     "shell.execute_reply.started": "2022-04-09T15:37:28.154262Z"
    },
    "papermill": {
     "duration": 0.051461,
     "end_time": "2022-04-09T18:57:21.050730",
     "exception": false,
     "start_time": "2022-04-09T18:57:20.999269",
     "status": "completed"
    },
    "tags": []
   },
   "outputs": [],
   "source": [
    "\n",
    "y_train = df['Survived']\n",
    "X_train = df.drop(columns=['Survived'])\n",
    "X_train = pd.get_dummies(X_train)"
   ]
  },
  {
   "cell_type": "code",
   "execution_count": 24,
   "id": "485f81dd",
   "metadata": {
    "execution": {
     "iopub.execute_input": "2022-04-09T18:57:21.125255Z",
     "iopub.status.busy": "2022-04-09T18:57:21.124497Z",
     "iopub.status.idle": "2022-04-09T18:57:21.147021Z",
     "shell.execute_reply": "2022-04-09T18:57:21.147712Z",
     "shell.execute_reply.started": "2022-04-09T15:37:28.168304Z"
    },
    "papermill": {
     "duration": 0.061726,
     "end_time": "2022-04-09T18:57:21.147900",
     "exception": false,
     "start_time": "2022-04-09T18:57:21.086174",
     "status": "completed"
    },
    "tags": []
   },
   "outputs": [
    {
     "data": {
      "text/html": [
       "<div>\n",
       "<style scoped>\n",
       "    .dataframe tbody tr th:only-of-type {\n",
       "        vertical-align: middle;\n",
       "    }\n",
       "\n",
       "    .dataframe tbody tr th {\n",
       "        vertical-align: top;\n",
       "    }\n",
       "\n",
       "    .dataframe thead th {\n",
       "        text-align: right;\n",
       "    }\n",
       "</style>\n",
       "<table border=\"1\" class=\"dataframe\">\n",
       "  <thead>\n",
       "    <tr style=\"text-align: right;\">\n",
       "      <th></th>\n",
       "      <th>Pclass</th>\n",
       "      <th>Age</th>\n",
       "      <th>SibSp</th>\n",
       "      <th>Parch</th>\n",
       "      <th>Fare</th>\n",
       "      <th>Sex_female</th>\n",
       "      <th>Sex_male</th>\n",
       "      <th>Embarked_C</th>\n",
       "      <th>Embarked_Q</th>\n",
       "      <th>Embarked_S</th>\n",
       "    </tr>\n",
       "  </thead>\n",
       "  <tbody>\n",
       "    <tr>\n",
       "      <th>0</th>\n",
       "      <td>1.000000</td>\n",
       "      <td>0.2750</td>\n",
       "      <td>0.125</td>\n",
       "      <td>0.0</td>\n",
       "      <td>0.014151</td>\n",
       "      <td>0</td>\n",
       "      <td>1</td>\n",
       "      <td>0</td>\n",
       "      <td>0</td>\n",
       "      <td>1</td>\n",
       "    </tr>\n",
       "    <tr>\n",
       "      <th>1</th>\n",
       "      <td>0.333333</td>\n",
       "      <td>0.4750</td>\n",
       "      <td>0.125</td>\n",
       "      <td>0.0</td>\n",
       "      <td>0.139136</td>\n",
       "      <td>1</td>\n",
       "      <td>0</td>\n",
       "      <td>1</td>\n",
       "      <td>0</td>\n",
       "      <td>0</td>\n",
       "    </tr>\n",
       "    <tr>\n",
       "      <th>2</th>\n",
       "      <td>1.000000</td>\n",
       "      <td>0.3250</td>\n",
       "      <td>0.000</td>\n",
       "      <td>0.0</td>\n",
       "      <td>0.015469</td>\n",
       "      <td>1</td>\n",
       "      <td>0</td>\n",
       "      <td>0</td>\n",
       "      <td>0</td>\n",
       "      <td>1</td>\n",
       "    </tr>\n",
       "    <tr>\n",
       "      <th>3</th>\n",
       "      <td>0.333333</td>\n",
       "      <td>0.4375</td>\n",
       "      <td>0.125</td>\n",
       "      <td>0.0</td>\n",
       "      <td>0.103644</td>\n",
       "      <td>1</td>\n",
       "      <td>0</td>\n",
       "      <td>0</td>\n",
       "      <td>0</td>\n",
       "      <td>1</td>\n",
       "    </tr>\n",
       "    <tr>\n",
       "      <th>4</th>\n",
       "      <td>1.000000</td>\n",
       "      <td>0.4375</td>\n",
       "      <td>0.000</td>\n",
       "      <td>0.0</td>\n",
       "      <td>0.015713</td>\n",
       "      <td>0</td>\n",
       "      <td>1</td>\n",
       "      <td>0</td>\n",
       "      <td>0</td>\n",
       "      <td>1</td>\n",
       "    </tr>\n",
       "  </tbody>\n",
       "</table>\n",
       "</div>"
      ],
      "text/plain": [
       "     Pclass     Age  SibSp  Parch      Fare  Sex_female  Sex_male  Embarked_C  \\\n",
       "0  1.000000  0.2750  0.125    0.0  0.014151           0         1           0   \n",
       "1  0.333333  0.4750  0.125    0.0  0.139136           1         0           1   \n",
       "2  1.000000  0.3250  0.000    0.0  0.015469           1         0           0   \n",
       "3  0.333333  0.4375  0.125    0.0  0.103644           1         0           0   \n",
       "4  1.000000  0.4375  0.000    0.0  0.015713           0         1           0   \n",
       "\n",
       "   Embarked_Q  Embarked_S  \n",
       "0           0           1  \n",
       "1           0           0  \n",
       "2           0           1  \n",
       "3           0           1  \n",
       "4           0           1  "
      ]
     },
     "execution_count": 24,
     "metadata": {},
     "output_type": "execute_result"
    }
   ],
   "source": [
    "# make normalization\n",
    "for column in ['Pclass','Age','SibSp','Parch','Fare']:\n",
    "    X_train[column] = X_train[column] / X_train[column].abs().max()\n",
    "X_train.head()"
   ]
  },
  {
   "cell_type": "code",
   "execution_count": 25,
   "id": "a50cb54c",
   "metadata": {
    "execution": {
     "iopub.execute_input": "2022-04-09T18:57:21.222512Z",
     "iopub.status.busy": "2022-04-09T18:57:21.221852Z",
     "iopub.status.idle": "2022-04-09T18:57:21.279587Z",
     "shell.execute_reply": "2022-04-09T18:57:21.278726Z",
     "shell.execute_reply.started": "2022-04-09T15:37:28.195521Z"
    },
    "papermill": {
     "duration": 0.096107,
     "end_time": "2022-04-09T18:57:21.279770",
     "exception": false,
     "start_time": "2022-04-09T18:57:21.183663",
     "status": "completed"
    },
    "tags": []
   },
   "outputs": [
    {
     "name": "stdout",
     "output_type": "stream",
     "text": [
      "<class 'pandas.core.frame.DataFrame'>\n",
      "RangeIndex: 418 entries, 0 to 417\n",
      "Data columns (total 10 columns):\n",
      " #   Column      Non-Null Count  Dtype  \n",
      "---  ------      --------------  -----  \n",
      " 0   Pclass      418 non-null    float64\n",
      " 1   Age         418 non-null    float64\n",
      " 2   SibSp       418 non-null    float64\n",
      " 3   Parch       418 non-null    float64\n",
      " 4   Fare        418 non-null    float64\n",
      " 5   Sex_female  418 non-null    uint8  \n",
      " 6   Sex_male    418 non-null    uint8  \n",
      " 7   Embarked_C  418 non-null    uint8  \n",
      " 8   Embarked_Q  418 non-null    uint8  \n",
      " 9   Embarked_S  418 non-null    uint8  \n",
      "dtypes: float64(5), uint8(5)\n",
      "memory usage: 18.5 KB\n"
     ]
    }
   ],
   "source": [
    "# prepare test data\n",
    "X_test = test_df.copy()\n",
    "X_test.drop(columns=['Cabin','PassengerId', 'Name', 'Ticket'], axis = 1, inplace = True)\n",
    "X_test['Age'] = X_test.apply(lambda x: grouped_sex_pclass_age.loc[x['Sex'], x['Pclass']]['median'] if (np.isnan(x['Age'])) else x['Age'],axis = 1)\n",
    "X_test.fillna(df['Fare'].median(),inplace = True)\n",
    "X_test = pd.get_dummies(X_test)\n",
    "for column in ['Pclass','Age','SibSp','Parch','Fare']:\n",
    "    X_test[column] = X_test[column] / X_test[column].abs().max()\n",
    "X_test.info()"
   ]
  },
  {
   "cell_type": "code",
   "execution_count": 26,
   "id": "d3746934",
   "metadata": {
    "execution": {
     "iopub.execute_input": "2022-04-09T18:57:21.359195Z",
     "iopub.status.busy": "2022-04-09T18:57:21.358237Z",
     "iopub.status.idle": "2022-04-09T18:57:22.981504Z",
     "shell.execute_reply": "2022-04-09T18:57:22.980970Z",
     "shell.execute_reply.started": "2022-04-09T15:37:28.51332Z"
    },
    "papermill": {
     "duration": 1.666193,
     "end_time": "2022-04-09T18:57:22.981674",
     "exception": false,
     "start_time": "2022-04-09T18:57:21.315481",
     "status": "completed"
    },
    "tags": []
   },
   "outputs": [
    {
     "data": {
      "text/plain": [
       "array([0, 0, 0, 0, 0, 0, 1, 0, 1, 0, 0, 0, 1, 0, 1, 1, 0, 0, 0, 1, 0, 0,\n",
       "       1, 0, 1, 0, 1, 0, 0, 0, 0, 0, 0, 0, 0, 0, 0, 0, 0, 0, 0, 0, 0, 1,\n",
       "       1, 0, 0, 0, 1, 0, 0, 0, 1, 1, 0, 0, 0, 0, 0, 1, 0, 0, 0, 1, 0, 1,\n",
       "       1, 0, 0, 1, 1, 0, 0, 0, 1, 0, 0, 1, 0, 1, 0, 0, 0, 0, 0, 0, 1, 0,\n",
       "       1, 0, 0, 0, 1, 0, 0, 0, 1, 0, 0, 0, 1, 0, 0, 0, 1, 0, 0, 0, 0, 0,\n",
       "       0, 1, 1, 1, 1, 0, 0, 0, 0, 1, 1, 0, 1, 0, 0, 0, 0, 1, 0, 0, 0, 0,\n",
       "       0, 0, 0, 0, 0, 0, 0, 0, 0, 1, 0, 0, 0, 0, 0, 0, 0, 0, 1, 0, 0, 0,\n",
       "       0, 0, 1, 0, 0, 0, 1, 0, 1, 0, 0, 0, 0, 0, 1, 0, 0, 0, 0, 0, 0, 1,\n",
       "       1, 0, 1, 1, 0, 0, 1, 0, 1, 0, 1, 0, 0, 0, 0, 0, 0, 0, 1, 0, 0, 0,\n",
       "       0, 0, 1, 0, 0, 1, 0, 0, 1, 0, 1, 0, 0, 0, 0, 1, 0, 0, 1, 0, 1, 0,\n",
       "       1, 0, 1, 0, 1, 1, 0, 1, 0, 0, 0, 1, 0, 0, 0, 0, 0, 0, 1, 1, 1, 1,\n",
       "       0, 0, 0, 0, 1, 0, 1, 1, 1, 0, 0, 0, 0, 0, 0, 0, 1, 0, 0, 0, 1, 0,\n",
       "       0, 0, 0, 0, 0, 0, 0, 0, 1, 1, 0, 1, 0, 0, 0, 0, 0, 0, 1, 1, 0, 0,\n",
       "       0, 0, 0, 0, 0, 1, 0, 0, 0, 0, 1, 0, 0, 0, 0, 0, 0, 0, 1, 1, 0, 0,\n",
       "       0, 0, 0, 0, 0, 1, 1, 1, 0, 0, 0, 0, 0, 0, 0, 0, 1, 0, 1, 0, 0, 0,\n",
       "       1, 0, 0, 1, 0, 0, 0, 0, 0, 0, 0, 0, 0, 1, 0, 0, 0, 1, 0, 1, 1, 0,\n",
       "       0, 0, 0, 0, 1, 0, 0, 0, 0, 1, 1, 0, 1, 0, 0, 0, 1, 0, 0, 1, 0, 0,\n",
       "       1, 1, 0, 0, 0, 0, 0, 0, 0, 0, 0, 1, 0, 0, 0, 0, 0, 1, 0, 0, 0, 1,\n",
       "       0, 1, 0, 0, 1, 0, 1, 0, 0, 0, 0, 0, 1, 0, 1, 1, 0, 0, 1, 0, 0, 0])"
      ]
     },
     "execution_count": 26,
     "metadata": {},
     "output_type": "execute_result"
    }
   ],
   "source": [
    "from sklearn.svm import SVC\n",
    "from sklearn.model_selection import GridSearchCV\n",
    "from sklearn.metrics import make_scorer\n",
    "from sklearn.metrics import accuracy_score\n",
    "model = SVC(random_state = 42)\n",
    "parameters = {'kernel':['poly', 'rbf'],'C':[0.1, 1, 3,6, 10, 13]}\n",
    "scorer = make_scorer(accuracy_score)\n",
    "# Create the object.\n",
    "grid_obj = GridSearchCV(model, parameters, scoring=scorer)\n",
    "# Fit the data\n",
    "grid_fit = grid_obj.fit(X_train, y_train)\n",
    "best_model = grid_fit.best_estimator_\n",
    "predicted = best_model.predict(X_test).astype(int)\n",
    "predicted"
   ]
  },
  {
   "cell_type": "code",
   "execution_count": 27,
   "id": "17753a09",
   "metadata": {
    "execution": {
     "iopub.execute_input": "2022-04-09T18:57:23.062021Z",
     "iopub.status.busy": "2022-04-09T18:57:23.061007Z",
     "iopub.status.idle": "2022-04-09T18:57:23.071031Z",
     "shell.execute_reply": "2022-04-09T18:57:23.070388Z",
     "shell.execute_reply.started": "2022-04-09T15:37:31.948545Z"
    },
    "papermill": {
     "duration": 0.053594,
     "end_time": "2022-04-09T18:57:23.071188",
     "exception": false,
     "start_time": "2022-04-09T18:57:23.017594",
     "status": "completed"
    },
    "tags": []
   },
   "outputs": [
    {
     "name": "stdout",
     "output_type": "stream",
     "text": [
      "Your submission was successfully saved!\n"
     ]
    }
   ],
   "source": [
    "output = pd.DataFrame({'passengerId':test_df.PassengerId,'Survived': predicted})\n",
    "output.to_csv('my_submission.csv',index = False)\n",
    "print(\"Your submission was successfully saved!\")"
   ]
  }
 ],
 "metadata": {
  "kernelspec": {
   "display_name": "Python 3",
   "language": "python",
   "name": "python3"
  },
  "language_info": {
   "codemirror_mode": {
    "name": "ipython",
    "version": 3
   },
   "file_extension": ".py",
   "mimetype": "text/x-python",
   "name": "python",
   "nbconvert_exporter": "python",
   "pygments_lexer": "ipython3",
   "version": "3.7.10"
  },
  "papermill": {
   "default_parameters": {},
   "duration": 17.868036,
   "end_time": "2022-04-09T18:57:24.571071",
   "environment_variables": {},
   "exception": null,
   "input_path": "__notebook__.ipynb",
   "output_path": "__notebook__.ipynb",
   "parameters": {},
   "start_time": "2022-04-09T18:57:06.703035",
   "version": "2.3.3"
  }
 },
 "nbformat": 4,
 "nbformat_minor": 5
}
